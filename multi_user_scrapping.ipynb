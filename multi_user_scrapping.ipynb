{
  "nbformat": 4,
  "nbformat_minor": 0,
  "metadata": {
    "colab": {
      "provenance": [],
      "authorship_tag": "ABX9TyPH2IEKJilgnKJT/8MOD3FM",
      "include_colab_link": true
    },
    "kernelspec": {
      "name": "python3",
      "display_name": "Python 3"
    },
    "language_info": {
      "name": "python"
    }
  },
  "cells": [
    {
      "cell_type": "markdown",
      "metadata": {
        "id": "view-in-github",
        "colab_type": "text"
      },
      "source": [
        "<a href=\"https://colab.research.google.com/github/shimaa83/data_analysis_thanwayaAma/blob/main/multi_user_scrapping.ipynb\" target=\"_parent\"><img src=\"https://colab.research.google.com/assets/colab-badge.svg\" alt=\"Open In Colab\"/></a>"
      ]
    },
    {
      "cell_type": "code",
      "source": [
        "#using beutiful soup to make response more organized and can easily scrap content\n",
        "from bs4 import BeautifulSoup\n",
        "import pandas as pd"
      ],
      "metadata": {
        "id": "Wpc3A6_kEcws"
      },
      "execution_count": 1,
      "outputs": []
    },
    {
      "cell_type": "code",
      "source": [
        "from google.colab import drive\n",
        "drive.mount('/content/drive')"
      ],
      "metadata": {
        "colab": {
          "base_uri": "https://localhost:8080/"
        },
        "id": "Bd7As5vmPuKE",
        "outputId": "7b9fb23e-afe3-46ec-b7b9-e3fb89e3012f"
      },
      "execution_count": 2,
      "outputs": [
        {
          "output_type": "stream",
          "name": "stdout",
          "text": [
            "Mounted at /content/drive\n"
          ]
        }
      ]
    },
    {
      "cell_type": "code",
      "execution_count": null,
      "metadata": {
        "id": "TUaClxfdEUQI"
      },
      "outputs": [],
      "source": [
        "####normal method\n",
        "#first type using post method\n",
        "#http://natega.dostor.org/Home/Result\n",
        "import requests\n",
        "def response_result(seatno): \n",
        "  headers = {'Referer': 'http://natega.dostor.org/' }\n",
        "  data = {'seating_no': seatno}\n",
        "  response = requests.post(f'http://natega.dostor.org/Home/Result',headers=headers, data=data, verify=False)\n",
        "  return print_result(response)  "
      ]
    },
    {
      "cell_type": "code",
      "source": [
        "def print_result(response):\n",
        "  try:\n",
        "    soup=BeautifulSoup(response.content)\n",
        "    department=soup.find_all( attrs={'class': 'resultItem'})[9].find_all('span')[1].get_text()\n",
        "    if(department==' أدبي'):\n",
        "       math=''\n",
        "       chimestry=''\n",
        "       biology=''\n",
        "       giology=''\n",
        "       applied_math=''\n",
        "       physics=''\n",
        "       history=float(soup.find_all( attrs={'class': 'resultItem'})[14].find_all('span')[1].get_text())\n",
        "       geographic=float(soup.find_all( attrs={'class': 'resultItem'})[15].find_all('span')[1].get_text())\n",
        "       philosophy=float(soup.find_all( attrs={'class': 'resultItem'})[16].find_all('span')[1].get_text())\n",
        "       sociology=float(soup.find_all( attrs={'class': 'resultItem'})[17].find_all('span')[1].get_text())\n",
        "    if(department==' علمي رياضة'):\n",
        "       math=[float(soup.find_all( attrs={'class': 'resultItem'})[13].find_all('span')[1].get_text())]\n",
        "       history=''\n",
        "       geographic=''\n",
        "       philosophy=''\n",
        "       sociology=''\n",
        "       chimestry=float(soup.find_all( attrs={'class': 'resultItem'})[18].find_all('span')[1].get_text())\n",
        "       biology=''\n",
        "       giology=float(soup.find_all( attrs={'class': 'resultItem'})[20].find_all('span')[1].get_text())\n",
        "       applied_math=float(soup.find_all( attrs={'class': 'resultItem'})[21].find_all('span')[1].get_text())\n",
        "       physics=float(soup.find_all( attrs={'class': 'resultItem'})[22].find_all('span')[1].get_text())\n",
        "    if(department==' علمي علوم'):\n",
        "       math=''\n",
        "       history=''\n",
        "       geographic=''\n",
        "       philosophy=''\n",
        "       sociology=''\n",
        "       chimestry=float(soup.find_all( attrs={'class': 'resultItem'})[18].find_all('span')[1].get_text())\n",
        "       biology=float(soup.find_all( attrs={'class': 'resultItem'})[19].find_all('span')[1].get_text())\n",
        "       giology=float(soup.find_all( attrs={'class': 'resultItem'})[20].find_all('span')[1].get_text())\n",
        "       applied_math=''\n",
        "       physics=float(soup.find_all( attrs={'class': 'resultItem'})[22].find_all('span')[1].get_text())\n",
        "  #store results in dataframe\n",
        "    result =  pd.DataFrame()\n",
        "    result['name']=[soup.find(id='pills-tab', attrs = {'class':\"nav-pills mb-3\"}).find_all('span')[1].get_text()]\n",
        "    result['percentage']=[float(soup.find_all( attrs={'class': 'resultItem'})[2].find_all('h1')[0].get_text().split(maxsplit=1)[0])]\n",
        "    result['total']=[float(soup.find_all( attrs={'class': 'col resultItem'})[1].find_all('h1')[0].get_text())]\n",
        "    result['seatno']=[int(soup.find_all( attrs={'class': 'col resultItem'})[0].find_all('h1')[0].get_text())]\n",
        "    result['school']=soup.find_all( attrs={'class': 'resultItem'})[4].find_all('span')[1].get_text()\n",
        "    result['education_department']=soup.find_all( attrs={'class': 'resultItem'})[5].find_all('span')[1].get_text()\n",
        "    result['no_fail_subject']=soup.find_all( attrs={'class': 'resultItem'})[6].find_all('span')[1].get_text()\n",
        "    result['status']=soup.find_all( attrs={'class': 'resultItem'})[7].find_all('span')[1].get_text().split()[0]\n",
        "    result['department']=soup.find_all( attrs={'class': 'resultItem'})[9].find_all('span')[1].get_text()\n",
        "    result['arabic']=[float(soup.find_all( attrs={'class': 'resultItem'})[10].find_all('span')[1].get_text())]\n",
        "    result['first_lang']=[float(soup.find_all( attrs={'class': 'resultItem'})[11].find_all('span')[1].get_text())]\n",
        "    result['second_lang']=[float(soup.find_all( attrs={'class': 'resultItem'})[12].find_all('span')[1].get_text())]\n",
        "    result['math']=math\n",
        "    result['chimestry']=chimestry\n",
        "    result['biology']=biology\n",
        "    result['giology']=giology\n",
        "    result['applied_math']=applied_math\n",
        "    result['physics']=physics\n",
        "    result['history']=history\n",
        "    result['geographic']=geographic\n",
        "    result['philosophy']=philosophy\n",
        "    result['sociology']=sociology\n",
        "    result['total']=[float(soup.find_all( attrs={'class': 'resultItem'})[23].find_all('span')[1].get_text())]\n",
        "    return result\n",
        "  except:\n",
        "     return\n"
      ],
      "metadata": {
        "id": "yfuCcwKza3Y_",
        "colab": {
          "base_uri": "https://localhost:8080/",
          "height": 183
        },
        "outputId": "0aa4bcd6-14a3-477b-df10-c28cc596d169"
      },
      "execution_count": 66,
      "outputs": [
        {
          "output_type": "stream",
          "name": "stderr",
          "text": [
            "/usr/lib/python3.7/tokenize.py:567: RuntimeWarning: coroutine 'ClientSession._request' was never awaited\n",
            "  yield TokenInfo(INDENT, line[:pos], (lnum, 0), (lnum, pos), line)\n",
            "RuntimeWarning: Enable tracemalloc to get the object allocation traceback\n"
          ]
        },
        {
          "output_type": "error",
          "ename": "SyntaxError",
          "evalue": "ignored",
          "traceback": [
            "\u001b[0;36m  File \u001b[0;32m\"<ipython-input-66-0f04384f568c>\"\u001b[0;36m, line \u001b[0;32m1\u001b[0m\n\u001b[0;31m    def print_result(response.text()):\u001b[0m\n\u001b[0m                             ^\u001b[0m\n\u001b[0;31mSyntaxError\u001b[0m\u001b[0;31m:\u001b[0m invalid syntax\n"
          ]
        }
      ]
    },
    {
      "cell_type": "code",
      "source": [
        "df = pd.DataFrame()\n",
        "df2= pd.DataFrame()\n",
        "for x in range(222221,222229):\n",
        "   df=response_result(x)\n",
        "  # print(df)\n",
        "   df2 =pd.concat([df,df2])\n",
        "df2.to_csv('/content/drive/MyDrive/baba/file.csv',encoding='utf-8-sig')\n",
        "\n",
        "\n"
      ],
      "metadata": {
        "id": "_hEj8pzDYBem"
      },
      "execution_count": null,
      "outputs": []
    },
    {
      "cell_type": "code",
      "source": [
        "import time\n",
        "print(\"the average time per call of Synchronous Approach (Sequential): \")\n",
        "%timeit response_result(222222)\n"
      ],
      "metadata": {
        "colab": {
          "base_uri": "https://localhost:8080/"
        },
        "id": "5Ehn-x1vRtHC",
        "outputId": "80d65209-d044-43a5-a97d-aaaa146e43f8"
      },
      "execution_count": null,
      "outputs": [
        {
          "output_type": "stream",
          "name": "stdout",
          "text": [
            "the average time per call of Synchronous Approach (Sequential): \n",
            "262 ms ± 23.3 ms per loop (mean ± std. dev. of 7 runs, 1 loop each)\n"
          ]
        }
      ]
    },
    {
      "cell_type": "code",
      "source": [
        "from tqdm import tqdm\n",
        "#second way\n",
        "#Synchronous Approach \n",
        "def second_way(seat_no):\n",
        "  df = pd.DataFrame()\n",
        "  df2= pd.DataFrame()\n",
        "  for x in tqdm(seat_no):\n",
        "      df=response_result(x)\n",
        "  # print(df)\n",
        "      df2 =pd.concat([df,df2])\n",
        "  df2.to_csv('/content/drive/MyDrive/baba/file.csv',encoding='utf-8-sig')\n",
        "  return df2\n"
      ],
      "metadata": {
        "id": "9YmLgMHbSLly"
      },
      "execution_count": 14,
      "outputs": []
    },
    {
      "cell_type": "code",
      "source": [
        "start = time.time()\n",
        "seat_no = range(222222,222260)\n",
        "x = second_way(seat_no)\n",
        "x.head()"
      ],
      "metadata": {
        "colab": {
          "base_uri": "https://localhost:8080/",
          "height": 629
        },
        "id": "Uj2Z56XMTGRX",
        "outputId": "b27c8a3c-fb28-4374-ec11-130060c94016"
      },
      "execution_count": null,
      "outputs": [
        {
          "output_type": "stream",
          "name": "stderr",
          "text": [
            "100%|██████████| 38/38 [00:13<00:00,  2.82it/s]\n"
          ]
        },
        {
          "output_type": "execute_result",
          "data": {
            "text/plain": [
              "                                  name  percentage  total  seatno  \\\n",
              "0                  مونيا محمد حسن احمد       50.73  208.0  222255   \n",
              "0                  فرح باسل محمد محمود       51.95  213.0  222252   \n",
              "0               نورهان تامر شوقى السيد       54.88  225.0  222243   \n",
              "0  سهر عصام عبد الغفار عبد المنعم محمد       62.20  255.0  222242   \n",
              "0                     نور بسام سيد على       58.54  240.0  222239   \n",
              "\n",
              "                          school education_department no_fail_subject status  \\\n",
              "0        منازل لغات إدارة الشروق               الشروق                   ناجح   \n",
              "0  طلائع الامل الاسلامية لغات(ث)               الشروق                   ناجح   \n",
              "0               منارة الشروق (ث)               الشروق                   ناجح   \n",
              "0               منارة الشروق (ث)               الشروق                   ناجح   \n",
              "0               منارة الشروق (ث)               الشروق                   ناجح   \n",
              "\n",
              "   department  arabic  ...  math  chimestry biology giology applied_math  \\\n",
              "0        أدبي    42.0  ...                                                 \n",
              "0   علمي علوم    40.0  ...             30.0    30.0    30.0                \n",
              "0   علمي علوم    40.0  ...             30.0    30.0    30.0                \n",
              "0   علمي علوم    56.0  ...             30.0    33.0    30.0                \n",
              "0        أدبي    51.0  ...                                                 \n",
              "\n",
              "  physics history geographic philosophy sociology  \n",
              "0            30.0       30.0       31.0      30.0  \n",
              "0    30.0                                          \n",
              "0    30.0                                          \n",
              "0    30.0                                          \n",
              "0            30.0       31.0       30.0      39.0  \n",
              "\n",
              "[5 rows x 22 columns]"
            ],
            "text/html": [
              "\n",
              "  <div id=\"df-d10bca66-9307-45a9-a5f7-230d6849fb99\">\n",
              "    <div class=\"colab-df-container\">\n",
              "      <div>\n",
              "<style scoped>\n",
              "    .dataframe tbody tr th:only-of-type {\n",
              "        vertical-align: middle;\n",
              "    }\n",
              "\n",
              "    .dataframe tbody tr th {\n",
              "        vertical-align: top;\n",
              "    }\n",
              "\n",
              "    .dataframe thead th {\n",
              "        text-align: right;\n",
              "    }\n",
              "</style>\n",
              "<table border=\"1\" class=\"dataframe\">\n",
              "  <thead>\n",
              "    <tr style=\"text-align: right;\">\n",
              "      <th></th>\n",
              "      <th>name</th>\n",
              "      <th>percentage</th>\n",
              "      <th>total</th>\n",
              "      <th>seatno</th>\n",
              "      <th>school</th>\n",
              "      <th>education_department</th>\n",
              "      <th>no_fail_subject</th>\n",
              "      <th>status</th>\n",
              "      <th>department</th>\n",
              "      <th>arabic</th>\n",
              "      <th>...</th>\n",
              "      <th>math</th>\n",
              "      <th>chimestry</th>\n",
              "      <th>biology</th>\n",
              "      <th>giology</th>\n",
              "      <th>applied_math</th>\n",
              "      <th>physics</th>\n",
              "      <th>history</th>\n",
              "      <th>geographic</th>\n",
              "      <th>philosophy</th>\n",
              "      <th>sociology</th>\n",
              "    </tr>\n",
              "  </thead>\n",
              "  <tbody>\n",
              "    <tr>\n",
              "      <th>0</th>\n",
              "      <td>مونيا محمد حسن احمد</td>\n",
              "      <td>50.73</td>\n",
              "      <td>208.0</td>\n",
              "      <td>222255</td>\n",
              "      <td>منازل لغات إدارة الشروق</td>\n",
              "      <td>الشروق</td>\n",
              "      <td></td>\n",
              "      <td>ناجح</td>\n",
              "      <td>أدبي</td>\n",
              "      <td>42.0</td>\n",
              "      <td>...</td>\n",
              "      <td></td>\n",
              "      <td></td>\n",
              "      <td></td>\n",
              "      <td></td>\n",
              "      <td></td>\n",
              "      <td></td>\n",
              "      <td>30.0</td>\n",
              "      <td>30.0</td>\n",
              "      <td>31.0</td>\n",
              "      <td>30.0</td>\n",
              "    </tr>\n",
              "    <tr>\n",
              "      <th>0</th>\n",
              "      <td>فرح باسل محمد محمود</td>\n",
              "      <td>51.95</td>\n",
              "      <td>213.0</td>\n",
              "      <td>222252</td>\n",
              "      <td>طلائع الامل الاسلامية لغات(ث)</td>\n",
              "      <td>الشروق</td>\n",
              "      <td></td>\n",
              "      <td>ناجح</td>\n",
              "      <td>علمي علوم</td>\n",
              "      <td>40.0</td>\n",
              "      <td>...</td>\n",
              "      <td></td>\n",
              "      <td>30.0</td>\n",
              "      <td>30.0</td>\n",
              "      <td>30.0</td>\n",
              "      <td></td>\n",
              "      <td>30.0</td>\n",
              "      <td></td>\n",
              "      <td></td>\n",
              "      <td></td>\n",
              "      <td></td>\n",
              "    </tr>\n",
              "    <tr>\n",
              "      <th>0</th>\n",
              "      <td>نورهان تامر شوقى السيد</td>\n",
              "      <td>54.88</td>\n",
              "      <td>225.0</td>\n",
              "      <td>222243</td>\n",
              "      <td>منارة الشروق (ث)</td>\n",
              "      <td>الشروق</td>\n",
              "      <td></td>\n",
              "      <td>ناجح</td>\n",
              "      <td>علمي علوم</td>\n",
              "      <td>40.0</td>\n",
              "      <td>...</td>\n",
              "      <td></td>\n",
              "      <td>30.0</td>\n",
              "      <td>30.0</td>\n",
              "      <td>30.0</td>\n",
              "      <td></td>\n",
              "      <td>30.0</td>\n",
              "      <td></td>\n",
              "      <td></td>\n",
              "      <td></td>\n",
              "      <td></td>\n",
              "    </tr>\n",
              "    <tr>\n",
              "      <th>0</th>\n",
              "      <td>سهر عصام عبد الغفار عبد المنعم محمد</td>\n",
              "      <td>62.20</td>\n",
              "      <td>255.0</td>\n",
              "      <td>222242</td>\n",
              "      <td>منارة الشروق (ث)</td>\n",
              "      <td>الشروق</td>\n",
              "      <td></td>\n",
              "      <td>ناجح</td>\n",
              "      <td>علمي علوم</td>\n",
              "      <td>56.0</td>\n",
              "      <td>...</td>\n",
              "      <td></td>\n",
              "      <td>30.0</td>\n",
              "      <td>33.0</td>\n",
              "      <td>30.0</td>\n",
              "      <td></td>\n",
              "      <td>30.0</td>\n",
              "      <td></td>\n",
              "      <td></td>\n",
              "      <td></td>\n",
              "      <td></td>\n",
              "    </tr>\n",
              "    <tr>\n",
              "      <th>0</th>\n",
              "      <td>نور بسام سيد على</td>\n",
              "      <td>58.54</td>\n",
              "      <td>240.0</td>\n",
              "      <td>222239</td>\n",
              "      <td>منارة الشروق (ث)</td>\n",
              "      <td>الشروق</td>\n",
              "      <td></td>\n",
              "      <td>ناجح</td>\n",
              "      <td>أدبي</td>\n",
              "      <td>51.0</td>\n",
              "      <td>...</td>\n",
              "      <td></td>\n",
              "      <td></td>\n",
              "      <td></td>\n",
              "      <td></td>\n",
              "      <td></td>\n",
              "      <td></td>\n",
              "      <td>30.0</td>\n",
              "      <td>31.0</td>\n",
              "      <td>30.0</td>\n",
              "      <td>39.0</td>\n",
              "    </tr>\n",
              "  </tbody>\n",
              "</table>\n",
              "<p>5 rows × 22 columns</p>\n",
              "</div>\n",
              "      <button class=\"colab-df-convert\" onclick=\"convertToInteractive('df-d10bca66-9307-45a9-a5f7-230d6849fb99')\"\n",
              "              title=\"Convert this dataframe to an interactive table.\"\n",
              "              style=\"display:none;\">\n",
              "        \n",
              "  <svg xmlns=\"http://www.w3.org/2000/svg\" height=\"24px\"viewBox=\"0 0 24 24\"\n",
              "       width=\"24px\">\n",
              "    <path d=\"M0 0h24v24H0V0z\" fill=\"none\"/>\n",
              "    <path d=\"M18.56 5.44l.94 2.06.94-2.06 2.06-.94-2.06-.94-.94-2.06-.94 2.06-2.06.94zm-11 1L8.5 8.5l.94-2.06 2.06-.94-2.06-.94L8.5 2.5l-.94 2.06-2.06.94zm10 10l.94 2.06.94-2.06 2.06-.94-2.06-.94-.94-2.06-.94 2.06-2.06.94z\"/><path d=\"M17.41 7.96l-1.37-1.37c-.4-.4-.92-.59-1.43-.59-.52 0-1.04.2-1.43.59L10.3 9.45l-7.72 7.72c-.78.78-.78 2.05 0 2.83L4 21.41c.39.39.9.59 1.41.59.51 0 1.02-.2 1.41-.59l7.78-7.78 2.81-2.81c.8-.78.8-2.07 0-2.86zM5.41 20L4 18.59l7.72-7.72 1.47 1.35L5.41 20z\"/>\n",
              "  </svg>\n",
              "      </button>\n",
              "      \n",
              "  <style>\n",
              "    .colab-df-container {\n",
              "      display:flex;\n",
              "      flex-wrap:wrap;\n",
              "      gap: 12px;\n",
              "    }\n",
              "\n",
              "    .colab-df-convert {\n",
              "      background-color: #E8F0FE;\n",
              "      border: none;\n",
              "      border-radius: 50%;\n",
              "      cursor: pointer;\n",
              "      display: none;\n",
              "      fill: #1967D2;\n",
              "      height: 32px;\n",
              "      padding: 0 0 0 0;\n",
              "      width: 32px;\n",
              "    }\n",
              "\n",
              "    .colab-df-convert:hover {\n",
              "      background-color: #E2EBFA;\n",
              "      box-shadow: 0px 1px 2px rgba(60, 64, 67, 0.3), 0px 1px 3px 1px rgba(60, 64, 67, 0.15);\n",
              "      fill: #174EA6;\n",
              "    }\n",
              "\n",
              "    [theme=dark] .colab-df-convert {\n",
              "      background-color: #3B4455;\n",
              "      fill: #D2E3FC;\n",
              "    }\n",
              "\n",
              "    [theme=dark] .colab-df-convert:hover {\n",
              "      background-color: #434B5C;\n",
              "      box-shadow: 0px 1px 3px 1px rgba(0, 0, 0, 0.15);\n",
              "      filter: drop-shadow(0px 1px 2px rgba(0, 0, 0, 0.3));\n",
              "      fill: #FFFFFF;\n",
              "    }\n",
              "  </style>\n",
              "\n",
              "      <script>\n",
              "        const buttonEl =\n",
              "          document.querySelector('#df-d10bca66-9307-45a9-a5f7-230d6849fb99 button.colab-df-convert');\n",
              "        buttonEl.style.display =\n",
              "          google.colab.kernel.accessAllowed ? 'block' : 'none';\n",
              "\n",
              "        async function convertToInteractive(key) {\n",
              "          const element = document.querySelector('#df-d10bca66-9307-45a9-a5f7-230d6849fb99');\n",
              "          const dataTable =\n",
              "            await google.colab.kernel.invokeFunction('convertToInteractive',\n",
              "                                                     [key], {});\n",
              "          if (!dataTable) return;\n",
              "\n",
              "          const docLinkHtml = 'Like what you see? Visit the ' +\n",
              "            '<a target=\"_blank\" href=https://colab.research.google.com/notebooks/data_table.ipynb>data table notebook</a>'\n",
              "            + ' to learn more about interactive tables.';\n",
              "          element.innerHTML = '';\n",
              "          dataTable['output_type'] = 'display_data';\n",
              "          await google.colab.output.renderOutput(dataTable, element);\n",
              "          const docLink = document.createElement('div');\n",
              "          docLink.innerHTML = docLinkHtml;\n",
              "          element.appendChild(docLink);\n",
              "        }\n",
              "      </script>\n",
              "    </div>\n",
              "  </div>\n",
              "  "
            ]
          },
          "metadata": {},
          "execution_count": 74
        }
      ]
    },
    {
      "cell_type": "code",
      "source": [
        "end =  time.time()\n",
        "print(f\"The time needed to run {len(seat_no)} of Synchronous Approach (Sequential) processes is {end - start} seconds\")"
      ],
      "metadata": {
        "colab": {
          "base_uri": "https://localhost:8080/"
        },
        "id": "8j582TnsTX1X",
        "outputId": "5a1be911-2fc9-4b38-9f1c-24550cad7a5e"
      },
      "execution_count": null,
      "outputs": [
        {
          "output_type": "stream",
          "name": "stdout",
          "text": [
            "The time needed to run 38 of Synchronous Approach (Sequential) processes is 13.51745319366455 seconds\n"
          ]
        }
      ]
    },
    {
      "cell_type": "code",
      "source": [
        "#Asynchronous \n",
        "#third way and the fastest way \n",
        "import asyncio\n",
        "import aiohttp\n",
        "import time\n",
        "import gc\n",
        "import attr"
      ],
      "metadata": {
        "id": "6oVp3GP4T9fK"
      },
      "execution_count": 3,
      "outputs": []
    },
    {
      "cell_type": "code",
      "source": [
        "start = time.time()"
      ],
      "metadata": {
        "id": "LWF5ttMuY2JC"
      },
      "execution_count": 52,
      "outputs": []
    },
    {
      "cell_type": "code",
      "source": [
        "# first initiat the task as coroutines\n",
        "def get_tasks(session, seats):\n",
        "    tasks = []\n",
        "    for i in seats:\n",
        "        data = {'seating_no': str(i)}\n",
        "        headers = {'referer': 'https://natega.dostor.org/'}\n",
        "        url = \"https://natega.dostor.org/Home/Result\"\n",
        "        tasks.append(session.post(url=url, headers=headers, data=data, ssl=False))\n",
        "    return tasks"
      ],
      "metadata": {
        "id": "eOEhHMLIg-3B"
      },
      "execution_count": 67,
      "outputs": []
    },
    {
      "cell_type": "code",
      "source": [
        "async def get_multi_scores_async_conc(seats):\n",
        "    async with aiohttp.ClientSession() as session:\n",
        "        results = pd.DataFrame()\n",
        "        tasks = get_tasks(session, seats)\n",
        "        responses = await asyncio.gather(*tasks)\n",
        "        for response in responses:\n",
        "            results = pd.concat([results, print_result(await response.text())], ignore_index=True)\n",
        "    return results"
      ],
      "metadata": {
        "id": "2VNbzUnOhA0Q"
      },
      "execution_count": 68,
      "outputs": []
    },
    {
      "cell_type": "code",
      "source": [
        "start = time.time()\n"
      ],
      "metadata": {
        "id": "vHnJWsmLhKvj"
      },
      "execution_count": 69,
      "outputs": []
    },
    {
      "cell_type": "code",
      "source": [
        "df2= pd.DataFrame()\n",
        "seats = range(222100,222150)\n",
        "df2 = await get_multi_scores_async_conc(seats)\n",
        "df2.to_csv('/content/drive/MyDrive/baba/file.csv',encoding='utf-8-sig')\n"
      ],
      "metadata": {
        "id": "GpldjM2lhOcD"
      },
      "execution_count": 75,
      "outputs": []
    },
    {
      "cell_type": "code",
      "source": [
        "end = time.time()\n",
        "print(f\"The time needed to run {len(seats)} of Asynchronous concurrent processes is {end - start} seconds\")"
      ],
      "metadata": {
        "colab": {
          "base_uri": "https://localhost:8080/"
        },
        "id": "E3Mn4cC5hT8F",
        "outputId": "544bffa2-656d-4081-eb28-02b1f4d1ccc8"
      },
      "execution_count": 71,
      "outputs": [
        {
          "output_type": "stream",
          "name": "stdout",
          "text": [
            "The time needed to run 50 of Asynchronous concurrent processes is 33.78591346740723 seconds\n"
          ]
        }
      ]
    }
  ]
}